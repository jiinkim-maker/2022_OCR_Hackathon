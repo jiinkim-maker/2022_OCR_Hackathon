{
  "cells": [
    {
      "cell_type": "code",
      "execution_count": 1,
      "metadata": {
        "id": "Ruu3oHjvRXhJ",
        "colab": {
          "base_uri": "https://localhost:8080/"
        },
        "outputId": "8cbecea5-6823-460f-fdb2-4eaf4a74ae66"
      },
      "outputs": [
        {
          "output_type": "stream",
          "name": "stdout",
          "text": [
            "Traceback (most recent call last):\n",
            "  File \"<string>\", line 1, in <module>\n",
            "ModuleNotFoundError: No module named 'monai'\n",
            "\u001b[K     |████████████████████████████████| 1.2 MB 4.7 MB/s \n",
            "\u001b[?25h"
          ]
        }
      ],
      "source": [
        "!python -c \"import monai\" || pip install -q \"monai-weekly[nibabel]\"\n",
        "!python -c \"import matplotlib\" || pip install -q matplotlib"
      ]
    },
    {
      "cell_type": "markdown",
      "metadata": {
        "id": "uhyNkQMOtSXe"
      },
      "source": [
        "###jpg랑 json 파일 읽어오기"
      ]
    },
    {
      "cell_type": "code",
      "execution_count": 2,
      "metadata": {
        "id": "g9zWzFsNRxOZ"
      },
      "outputs": [],
      "source": [
        "path0 = '/content/drive/MyDrive/commit_folder/ocr/deep-text-recognition-benchmark-master/ch_dataset/hangseo/가은집_02/image' # replace your data path\n",
        "path1 = '/content/drive/MyDrive/commit_folder/ocr/deep-text-recognition-benchmark-master/ch_dataset/hangseo/가은집_02/json'\n",
        "path2 = '/content/drive/MyDrive/commit_folder/ocr/deep-text-recognition-benchmark-master/ch_dataset/hangseo/가은집_02/image2'# crop한 이미지 저장용\n",
        "# dpiv = 80"
      ]
    },
    {
      "cell_type": "code",
      "execution_count": 3,
      "metadata": {
        "id": "YPqzY5IrSxtI"
      },
      "outputs": [],
      "source": [
        "from monai.transforms import (\n",
        "    AddChanneld,\n",
        "    Compose,\n",
        "    LoadImaged,\n",
        "    CenterSpatialCropd,\n",
        "    NormalizeIntensityd,\n",
        "    RandSpatialCropd,\n",
        "    ToTensord,\n",
        ")\n",
        "from monai.config import print_config\n",
        "from monai.data import DataLoader, Dataset\n",
        "from monai.utils import first\n",
        "from monai.networks.nets import EfficientNet, EfficientNetBN\n",
        "\n",
        "import torch\n",
        "import torch.nn as nn\n",
        "import torch.optim as optim\n",
        "\n",
        "import numpy as np\n",
        "import matplotlib.pyplot as plt\n",
        "import os\n",
        "import glob\n",
        "import json\n",
        "import csv"
      ]
    },
    {
      "cell_type": "code",
      "execution_count": 4,
      "metadata": {
        "colab": {
          "base_uri": "https://localhost:8080/"
        },
        "id": "qX2l7DvoS-sZ",
        "outputId": "4f925c64-1e20-4f31-f725-400740e168b7"
      },
      "outputs": [
        {
          "output_type": "stream",
          "name": "stdout",
          "text": [
            "cuda:0\n"
          ]
        }
      ],
      "source": [
        "if torch.cuda.is_available():\n",
        "  device = torch.device('cuda:0')\n",
        "else:\n",
        "  device = torch.device('cpu')\n",
        "\n",
        "print(device)"
      ]
    },
    {
      "cell_type": "code",
      "execution_count": 5,
      "metadata": {
        "colab": {
          "base_uri": "https://localhost:8080/"
        },
        "id": "cFXxiR1ZTAnq",
        "outputId": "6b90cd0d-886d-4196-d49d-3304ac2480bc"
      },
      "outputs": [
        {
          "output_type": "stream",
          "name": "stdout",
          "text": [
            "['/content/drive/MyDrive/commit_folder/ocr/deep-text-recognition-benchmark-master/ch_dataset/hangseo/가은집_02/image/ACKS_MI_01000001_0020_001.jpg', '/content/drive/MyDrive/commit_folder/ocr/deep-text-recognition-benchmark-master/ch_dataset/hangseo/가은집_02/image/ACKS_MI_01000001_0020_005.jpg', '/content/drive/MyDrive/commit_folder/ocr/deep-text-recognition-benchmark-master/ch_dataset/hangseo/가은집_02/image/ACKS_MI_01000001_0020_006.jpg']\n",
            "['/content/drive/MyDrive/commit_folder/ocr/deep-text-recognition-benchmark-master/ch_dataset/hangseo/가은집_02/json/ACKS_MI_01000001_0020_001.json', '/content/drive/MyDrive/commit_folder/ocr/deep-text-recognition-benchmark-master/ch_dataset/hangseo/가은집_02/json/ACKS_MI_01000001_0020_005.json', '/content/drive/MyDrive/commit_folder/ocr/deep-text-recognition-benchmark-master/ch_dataset/hangseo/가은집_02/json/ACKS_MI_01000001_0020_006.json']\n"
          ]
        }
      ],
      "source": [
        "path_list = glob.glob(os.path.join(path0,'*.jpg'))\n",
        "path_list.sort()\n",
        "len(path_list)# 가온집2 라는 폴더에 jpg파일 90개인거 확인하기\n",
        "\n",
        "print(path_list[:3])\n",
        "\n",
        "\n",
        "json_list = glob.glob(os.path.join(path1,'*.json'))\n",
        "json_list.sort()\n",
        "len(json_list)\n",
        "\n",
        "print(json_list[:3])"
      ]
    },
    {
      "cell_type": "code",
      "execution_count": 6,
      "metadata": {
        "id": "mautIIPgkHh-"
      },
      "outputs": [],
      "source": [
        "def extract_label(file_path):\n",
        "  with open(file_path, 'r') as file:\n",
        "      data = json.load(file)\n",
        "      data= data['Image_Text_Coord']# 하나의 파일에 대한 bbox랑 label 넣기\n",
        "  return data\n",
        "\n"
      ]
    },
    {
      "cell_type": "code",
      "execution_count": 7,
      "metadata": {
        "id": "xG3lrGLmTAl1"
      },
      "outputs": [],
      "source": [
        "train_ind = np.arange(0,70)# 총 90개였으니까\n",
        "data_dicts = [\n",
        "    {\n",
        "        \"image\": os.path.join(path_list[idx]),# 여기에 이미지 70개 들어가고\n",
        "        \"label\": extract_label(os.path.join(json_list[idx])),# 여기에 json파일 70개 들어가고\n",
        "    }\n",
        "    for idx in train_ind\n",
        "]\n",
        "train_files =  data_dicts"
      ]
    },
    {
      "cell_type": "code",
      "execution_count": 8,
      "metadata": {
        "colab": {
          "base_uri": "https://localhost:8080/"
        },
        "id": "eXzJubrdkgI6",
        "outputId": "92cdd276-4bff-4c6a-dc77-0bc4c40c4926"
      },
      "outputs": [
        {
          "output_type": "execute_result",
          "data": {
            "text/plain": [
              "[948.5, 130.0, 121.0, 115.0, 0, 0]"
            ]
          },
          "metadata": {},
          "execution_count": 8
        }
      ],
      "source": [
        "train_files[0]['label'][0][0]['label']# 한자 뽑아낼때는 이렇게 뽑아내야함\n",
        "# 첫번째 0 -> 몇번째 파일이야\n",
        "# 두번째 0-> 몇번째 column이야\n",
        "# 세번째 0-> 그 column에서 몇번째 단어야\n",
        "# 마지막 label -> 그 단어가 무슨 한자야\n",
        "\n",
        "train_files[0]['label'][0][0]['bbox'] # bbox 뽑아낼때는 이렇게 뽑아내야함\n",
        "# 첫번째 파일의 (0,0)위치의 한자는 [948.5,~~~~이 위치에 존재한다."
      ]
    },
    {
      "cell_type": "code",
      "execution_count": 9,
      "metadata": {
        "id": "rRiKuFzrTAjk"
      },
      "outputs": [],
      "source": [
        "valid_ind = np.arange(70,90)\n",
        "data_dicts = [\n",
        "    {\n",
        "        \"image\": os.path.join(path_list[idx]),# 여기에 이미지 20개 들어가고\n",
        "        \"label\": extract_label(os.path.join(json_list[idx])),# 여기에 json파일 20개 들어가고\n",
        "    }\n",
        "    for idx in valid_ind\n",
        "]\n",
        "valid_files =  data_dicts\n",
        "\n",
        "# ㅇ여기까지 Train이랑 valid 나누는 것까지 했고"
      ]
    },
    {
      "cell_type": "markdown",
      "metadata": {
        "id": "7FIVp6C4h3KQ"
      },
      "source": [
        "### label에 있는 json파일을 이용해서 image를 crop하고\n",
        "### label에 있는 json파일을 이용해서 label로 한자도 다시 갖고 오고"
      ]
    },
    {
      "cell_type": "code",
      "execution_count": 10,
      "metadata": {
        "colab": {
          "base_uri": "https://localhost:8080/"
        },
        "id": "cItKkdFTmFVE",
        "outputId": "41f36ec3-4282-4377-9eef-eb8e7f3120b4"
      },
      "outputs": [
        {
          "output_type": "execute_result",
          "data": {
            "text/plain": [
              "[948.5, 130.0, 121.0, 115.0, 0, 0]"
            ]
          },
          "metadata": {},
          "execution_count": 10
        }
      ],
      "source": [
        "train_files[0]['label'][0][0]['bbox']\n",
        "# print(len(train_files[0]['label'][0]))\n",
        "# 이런 식으로 bbox 레이블링 + label "
      ]
    },
    {
      "cell_type": "code",
      "source": [
        "train_files[0]['label'][0][0]['bbox'][0]"
      ],
      "metadata": {
        "colab": {
          "base_uri": "https://localhost:8080/"
        },
        "id": "ERHy46ZaQ4i_",
        "outputId": "223f2dad-940b-4bce-c62c-de9a5129cdb4"
      },
      "execution_count": 11,
      "outputs": [
        {
          "output_type": "execute_result",
          "data": {
            "text/plain": [
              "948.5"
            ]
          },
          "metadata": {},
          "execution_count": 11
        }
      ]
    },
    {
      "cell_type": "code",
      "source": [
        "def crop_image(train_files):\n",
        "  crop_image_list = []\n",
        "  z = 0\n",
        "  for i in range(len(train_files)):\n",
        "    img = cv2.imread(train_files[i]['image'])# 이미지 불러오기\n",
        "\n",
        "    for i2 in range(len(train_files[i]['label'])):\n",
        "      for i3 in range(len(train_files[i]['label'][i2])):\n",
        "        bbox = train_files[i]['label'][i2][i3]['bbox']\n",
        "        x_1 = int(bbox[0])\n",
        "        y_1 = int(bbox[1])\n",
        "        w = int(bbox[2])\n",
        "        h = int(bbox[3])\n",
        "        crop_img = img[y_1:y_1+h, x_1:x_1+w]# 잘 잘리는 거 확인함\n",
        "        cv2.imwrite('/content/drive/MyDrive/commit_folder/ocr/deep-text-recognition-benchmark-master/ch_dataset/hangseo/가은집_02/image2/%d_crop.jpg' %(z), crop_img)\n",
        "        z = z+1\n",
        "        crop_image_list.append(crop_img)\n",
        "\n",
        "  return crop_image_list    "
      ],
      "metadata": {
        "id": "thlhE_Ibs1nN"
      },
      "execution_count": 19,
      "outputs": []
    },
    {
      "cell_type": "code",
      "source": [
        "def chinese_label(train_files):\n",
        "  chinese_label_list = []\n",
        "  for i in range(len(train_files)):\n",
        "    for i2 in range(len(train_files[i]['label'])):\n",
        "      for i3 in range(len(train_files[i]['label'][i2])):\n",
        "        chinese = train_files[i]['label'][i2][i3]['label']\n",
        "        chinese_label_list.append(chinese)\n",
        "\n",
        "  return chinese_label_list"
      ],
      "metadata": {
        "id": "0d3bs4HUtXsk"
      },
      "execution_count": 20,
      "outputs": []
    },
    {
      "cell_type": "code",
      "source": [
        "import cv2\n",
        "a = crop_image(train_files)# ndarray로 들어가는 것 확인\n",
        "\n",
        "print(len(a))"
      ],
      "metadata": {
        "colab": {
          "base_uri": "https://localhost:8080/"
        },
        "id": "2ObbOvfBt-cr",
        "outputId": "1aa7ee35-4a0e-4ed5-a36e-dc8558cae71a"
      },
      "execution_count": 21,
      "outputs": [
        {
          "output_type": "stream",
          "name": "stdout",
          "text": [
            "12692\n"
          ]
        }
      ]
    },
    {
      "cell_type": "code",
      "source": [
        "b = chinese_label(train_files)# 여기는 한자로 들어가는 것도 확인\n",
        "print(len(b))# 여기는 조각난 모든 파일에 대한 각 리스트 순서대로 레이블링 된 값들"
      ],
      "metadata": {
        "id": "Q-iZZaqKtyZn",
        "colab": {
          "base_uri": "https://localhost:8080/"
        },
        "outputId": "d44d5837-93c5-4f5b-f3c6-92e72405a77c"
      },
      "execution_count": 22,
      "outputs": [
        {
          "output_type": "stream",
          "name": "stdout",
          "text": [
            "12692\n"
          ]
        }
      ]
    },
    {
      "cell_type": "code",
      "source": [
        "from collections import Counter\n",
        "counter = Counter(b)\n",
        "print(len(counter))# 전체 한자 개수\n",
        "label = list(counter)\n",
        "print(len(label))# 일단 전체 한자가 총 몇개인지는 알아야지"
      ],
      "metadata": {
        "id": "amWc34p224Bd",
        "colab": {
          "base_uri": "https://localhost:8080/"
        },
        "outputId": "ceefa082-024f-4416-e751-39379dcb826f"
      },
      "execution_count": 23,
      "outputs": [
        {
          "output_type": "stream",
          "name": "stdout",
          "text": [
            "2315\n",
            "2315\n"
          ]
        }
      ]
    },
    {
      "cell_type": "markdown",
      "source": [
        "##1차 raw data를 train과 valid 파일로 이동시키는 과정"
      ],
      "metadata": {
        "id": "bLM2EhPtX9sB"
      }
    },
    {
      "cell_type": "code",
      "source": [
        "if not os.path.isdir('/content/drive/MyDrive/commit_folder/ocr/deep-text-recognition-benchmark-master/ch_dataset/hangseo/가은집_02/image2/train'):# 이런 디렉토리가 없으면\n",
        "  os.makedirs('/content/drive/MyDrive/commit_folder/ocr/deep-text-recognition-benchmark-master/ch_dataset/hangseo/가은집_02/image2/train')# 이런 디렉토리를 만들어주고(train)\n",
        "\n",
        "if not os.path.isdir('/content/drive/MyDrive/commit_folder/ocr/deep-text-recognition-benchmark-master/ch_dataset/hangseo/가은집_02/image2/valid'):# 이런 디렉토리가 없으면\n",
        "  os.makedirs('/content/drive/MyDrive/commit_folder/ocr/deep-text-recognition-benchmark-master/ch_dataset/hangseo/가은집_02/image2/valid')# 이런 디렉토리를 만들어주고(valid)\n"
      ],
      "metadata": {
        "id": "N94C8WipX9VK"
      },
      "execution_count": 24,
      "outputs": []
    },
    {
      "cell_type": "code",
      "source": [
        "import shutil\n",
        "start_num = int(len(a)*0.8)\n",
        "for i in range(2220, start_num):\n",
        "  shutil.move('/content/drive/MyDrive/commit_folder/ocr/deep-text-recognition-benchmark-master/ch_dataset/hangseo/가은집_02/image2/%d_crop.jpg' %(i),'/content/drive/MyDrive/commit_folder/ocr/deep-text-recognition-benchmark-master/ch_dataset/hangseo/가은집_02/image2/train' )\n",
        "#여기까지 train image들 집어넣기\n",
        "\n",
        "for z in range(start_num, len(a)):\n",
        "  shutil.move('/content/drive/MyDrive/commit_folder/ocr/deep-text-recognition-benchmark-master/ch_dataset/hangseo/가은집_02/image2/%d_crop.jpg' %(z),'/content/drive/MyDrive/commit_folder/ocr/deep-text-recognition-benchmark-master/ch_dataset/hangseo/가은집_02/image2/valid' )\n",
        "\n",
        "#여기까지 valid image들 집어넣기"
      ],
      "metadata": {
        "id": "jnBe8BqTX9Tp"
      },
      "execution_count": 25,
      "outputs": []
    },
    {
      "cell_type": "code",
      "source": [
        "print(len(os.listdir('/content/drive/MyDrive/commit_folder/ocr/deep-text-recognition-benchmark-master/ch_dataset/hangseo/가은집_02/image2/train')))\n",
        "print(len(os.listdir('/content/drive/MyDrive/commit_folder/ocr/deep-text-recognition-benchmark-master/ch_dataset/hangseo/가은집_02/image2/valid')))"
      ],
      "metadata": {
        "colab": {
          "base_uri": "https://localhost:8080/"
        },
        "id": "9jEMe_1Kqf4a",
        "outputId": "ff6faf20-8f35-4e06-bc84-61427b9ff4ab"
      },
      "execution_count": 26,
      "outputs": [
        {
          "output_type": "stream",
          "name": "stdout",
          "text": [
            "7933\n",
            "2539\n"
          ]
        }
      ]
    },
    {
      "cell_type": "markdown",
      "source": [
        "### 앞에서 이미지 crop까지 끝냈고 -> 전처리 과정\n",
        "## Image data loader"
      ],
      "metadata": {
        "id": "-alAPNFcNMgn"
      }
    },
    {
      "cell_type": "code",
      "source": [
        "path_train = '/content/drive/MyDrive/commit_folder/ocr/deep-text-recognition-benchmark-master/ch_dataset/hangseo/가은집_02/image2/1'# crop한 이미지들 들어가 있음\n",
        "path_valid = '/content/drive/MyDrive/commit_folder/ocr/deep-text-recognition-benchmark-master/ch_dataset/hangseo/가은집_02/image2/2'\n",
        "\n",
        "# 여기서 8:2로 우리가 알아서 분류해서 진행하기로함"
      ],
      "metadata": {
        "id": "ZGfvXIZGNMEq"
      },
      "execution_count": 69,
      "outputs": []
    },
    {
      "cell_type": "code",
      "source": [
        "output = glob.glob('/content/drive/MyDrive/commit_folder/ocr/deep-text-recognition-benchmark-master/ch_dataset/hangseo/가은집_02/image2/1/train/*.jpg')\n",
        "output.sort()\n",
        "print(output[:3])"
      ],
      "metadata": {
        "colab": {
          "base_uri": "https://localhost:8080/"
        },
        "id": "sUqqCi7oFGbk",
        "outputId": "f5054259-24c0-4dcc-d6dc-4a4a8826fd22"
      },
      "execution_count": 85,
      "outputs": [
        {
          "output_type": "stream",
          "name": "stdout",
          "text": [
            "['/content/drive/MyDrive/commit_folder/ocr/deep-text-recognition-benchmark-master/ch_dataset/hangseo/가은집_02/image2/1/train/10000_crop.jpg', '/content/drive/MyDrive/commit_folder/ocr/deep-text-recognition-benchmark-master/ch_dataset/hangseo/가은집_02/image2/1/train/10001_crop.jpg', '/content/drive/MyDrive/commit_folder/ocr/deep-text-recognition-benchmark-master/ch_dataset/hangseo/가은집_02/image2/1/train/10002_crop.jpg']\n"
          ]
        }
      ]
    },
    {
      "cell_type": "code",
      "source": [
        "import torchvision\n",
        "import torchvision.transforms as transforms\n",
        "import torch\n",
        "\n",
        "batch_size = 128\n",
        "\n",
        "train_transforms = transforms.Compose(\n",
        "      [\n",
        "          transforms.Grayscale(num_output_channels=1),\n",
        "          transforms.Resize((64,64)),\n",
        "          transforms.ToTensor(),\n",
        "      ]\n",
        "    )\n",
        "\n",
        "#사용 transform\n",
        "\n",
        "trainset = torchvision.datasets.ImageFolder(root = path_train,transform=train_transforms)\n",
        "validset = torchvision.datasets.ImageFolder(root = path_valid,transform=train_transforms)\n",
        "\n",
        "train_iter = torch.utils.data.DataLoader(trainset,batch_size=batch_size,shuffle=False)\n",
        "valid_iter = torch.utils.data.DataLoader(validset,batch_size=batch_size,shuffle=False)"
      ],
      "metadata": {
        "id": "TtLBL-iWNMCj"
      },
      "execution_count": 71,
      "outputs": []
    },
    {
      "cell_type": "code",
      "source": [
        "tgtnames = b# 이미지 crop된 값과 똑같은 순서대로 들어있는 label list # 12692개\n",
        "print(tgtnames[:3])\n",
        "print(len(tgtnames))"
      ],
      "metadata": {
        "id": "sPen5TI6NMAw",
        "colab": {
          "base_uri": "https://localhost:8080/"
        },
        "outputId": "2c0c9b7d-19b8-48b7-8590-7692f1155664"
      },
      "execution_count": 72,
      "outputs": [
        {
          "output_type": "stream",
          "name": "stdout",
          "text": [
            "['祭', '文', '墓']\n",
            "12692\n"
          ]
        }
      ]
    },
    {
      "cell_type": "code",
      "source": [
        "from matplotlib import font_manager\n",
        "\n",
        "fontP = font_manager.FontProperties()"
      ],
      "metadata": {
        "id": "xDucwxHQ7QXT"
      },
      "execution_count": 73,
      "outputs": []
    },
    {
      "cell_type": "code",
      "source": [
        "dataiter=iter(train_iter)\n",
        "images, labels = dataiter.next()\n",
        "print(labels.shape)\n",
        "print(images.shape)\n",
        "I = images[0][0].numpy()\n",
        "plt.figure(dpi=128)\n",
        "plt.imshow(I,cmap='gray')\n",
        "# plt.legend(tgtnames[labels[0]], prop=fontP)\n",
        "# plt.title(tgtnames[labels[0]], fontproperties=fontP)\n",
        "plt.show()\n",
        "# print(tgtnames[labels[0]])\n",
        "print(tgtnames[labels[1]])"
      ],
      "metadata": {
        "id": "smG4ZJNTNL_I",
        "colab": {
          "base_uri": "https://localhost:8080/",
          "height": 517
        },
        "outputId": "3c4ffc2b-6965-4c8e-e673-22f7da1a76ef"
      },
      "execution_count": 76,
      "outputs": [
        {
          "output_type": "stream",
          "name": "stdout",
          "text": [
            "torch.Size([128])\n",
            "torch.Size([128, 1, 64, 64])\n"
          ]
        },
        {
          "output_type": "display_data",
          "data": {
            "text/plain": [
              "<Figure size 768x512 with 1 Axes>"
            ],
            "image/png": "[encoded data removed]"
          },
          "metadata": {
            "needs_background": "light"
          }
        },
        {
          "output_type": "stream",
          "name": "stdout",
          "text": [
            "祭\n"
          ]
        }
      ]
    },
    {
      "cell_type": "markdown",
      "source": [
        "##Model 정의하기"
      ],
      "metadata": {
        "id": "AQVH0vrjPJqd"
      }
    },
    {
      "cell_type": "code",
      "source": [
        "net = torch.nn.Sequential(\n",
        "    nn.Conv2d(in_channels=1, out_channels=8, kernel_size=5, stride = 1, padding=2),# 인풋으로 이미지 하나 들어가는 거니까\n",
        "    nn.ReLU(),\n",
        "    nn.AvgPool2d(kernel_size=2, stride=2),\n",
        "    nn.Conv2d(in_channels=8, out_channels=32, kernel_size=5, stride = 1, padding = 2),\n",
        "    nn.ReLU(),\n",
        "    nn.AvgPool2d(kernel_size=2, stride=2),\n",
        "    nn.Flatten(),\n",
        "    nn.Linear(in_features=32*16*16, out_features=4000),\n",
        "    nn.ReLU(),\n",
        "    nn.Linear(4000, 3000),\n",
        "    nn.ReLU(),\n",
        "    nn.Linear(3000, 12692)# 아웃풋으로 총 12692개의 한자 레이블 값에 대한 풀이 \n",
        ")\n",
        "net = net.to(device)\n",
        "net"
      ],
      "metadata": {
        "id": "hqRF9GP6NL9s",
        "colab": {
          "base_uri": "https://localhost:8080/"
        },
        "outputId": "2af42851-2d21-40d2-dbe2-99d5c6732163"
      },
      "execution_count": 32,
      "outputs": [
        {
          "output_type": "execute_result",
          "data": {
            "text/plain": [
              "Sequential(\n",
              "  (0): Conv2d(1, 8, kernel_size=(5, 5), stride=(1, 1), padding=(2, 2))\n",
              "  (1): ReLU()\n",
              "  (2): AvgPool2d(kernel_size=2, stride=2, padding=0)\n",
              "  (3): Conv2d(8, 32, kernel_size=(5, 5), stride=(1, 1), padding=(2, 2))\n",
              "  (4): ReLU()\n",
              "  (5): AvgPool2d(kernel_size=2, stride=2, padding=0)\n",
              "  (6): Flatten(start_dim=1, end_dim=-1)\n",
              "  (7): Linear(in_features=8192, out_features=4000, bias=True)\n",
              "  (8): ReLU()\n",
              "  (9): Linear(in_features=4000, out_features=3000, bias=True)\n",
              "  (10): ReLU()\n",
              "  (11): Linear(in_features=3000, out_features=12692, bias=True)\n",
              ")"
            ]
          },
          "metadata": {},
          "execution_count": 32
        }
      ]
    },
    {
      "cell_type": "markdown",
      "source": [
        "## Setting Hyperparameter\n"
      ],
      "metadata": {
        "id": "Si9mMMkYTIdk"
      }
    },
    {
      "cell_type": "code",
      "source": [
        "# setting hyper-parameters\n",
        "learning_rate = 0.00056\n",
        "num_epochs = 100\n",
        "\n",
        "# loss function and algorithm\n",
        "loss = torch.nn.CrossEntropyLoss() # loss\n",
        "alg = torch.optim.SGD(net.parameters(),lr=learning_rate) # sgd"
      ],
      "metadata": {
        "id": "m7ps6I07NL4T"
      },
      "execution_count": 88,
      "outputs": []
    },
    {
      "cell_type": "code",
      "source": [
        "# training the model\n",
        "loss_train = np.array([])\n",
        "accs_train = np.array([])\n",
        "accs_valid = np.array([])\n",
        "\n",
        "for epoch in range(num_epochs):\n",
        "    i=0\n",
        "    l_epoch = 0\n",
        "    correct = 0\n",
        "    net.train()\n",
        "    for X,y in train_iter:\n",
        "        i=i+1\n",
        "        X,y = X.to(device),y.to(device)\n",
        "        y_hat=net(X)\n",
        "        correct += (y_hat.argmax(dim=1)==y).sum()\n",
        "        l=loss(y_hat,y)\n",
        "        l_epoch+=l\n",
        "        alg.zero_grad()\n",
        "        l.backward()\n",
        "        alg.step()\n",
        "\n",
        "    loss_train = np.append(loss_train,l_epoch.cpu().detach().numpy()/i)\n",
        "    accs_train = np.append(accs_train,correct.cpu()/len(trainset))\n",
        "\n",
        "    correct = 0\n",
        "    net.eval()\n",
        "    for X,y in valid_iter:\n",
        "        X,y = X.to(device),y.to(device)\n",
        "        y_hat = net(X)\n",
        "        correct += (y_hat.argmax(dim=1)==y).sum()\n",
        "\n",
        "    accs_valid = np.append(accs_valid,correct.cpu()/len(validset))\n",
        "\n",
        "    plt.figure(2,dpi=80)\n",
        "    plt.subplot(121)\n",
        "    plt.plot(loss_train,label='train loss')\n",
        "    plt.legend(loc='upper right')\n",
        "    plt.subplot(122)\n",
        "    plt.plot(accs_train,label='train accuracy')\n",
        "    plt.plot(accs_valid,label='valid accuracy')\n",
        "    plt.legend(loc='upper left')\n",
        "    plt.title('epoch: %d '%(epoch))\n",
        "    plt.savefig('loss_curve.png')\n",
        "#        plt.show()\n",
        "    plt.close(2)\n",
        "\n",
        "    if epoch%5 == 0:\n",
        "        print('epoch: %d '%(epoch))\n",
        "        print('train loss: ',loss_train[-1])\n",
        "        print('train accuracy: ',accs_train[-1])\n",
        "        print('valid accuracy: ',accs_valid[-1])"
      ],
      "metadata": {
        "id": "SVLIR04nNL2P",
        "colab": {
          "base_uri": "https://localhost:8080/"
        },
        "outputId": "b891727a-9ec2-4a0a-ea3a-8f2246ba299b"
      },
      "execution_count": 89,
      "outputs": [
        {
          "output_type": "stream",
          "name": "stdout",
          "text": [
            "epoch: 0 \n",
            "train loss:  2.6769837037840436e-06\n",
            "train accuracy:  1.0\n",
            "valid accuracy:  1.0\n",
            "epoch: 5 \n",
            "train loss:  2.6725796370526717e-06\n",
            "train accuracy:  1.0\n",
            "valid accuracy:  1.0\n",
            "epoch: 10 \n",
            "train loss:  2.667859887644168e-06\n",
            "train accuracy:  1.0\n",
            "valid accuracy:  1.0\n",
            "epoch: 15 \n",
            "train loss:  2.6633037299278283e-06\n",
            "train accuracy:  1.0\n",
            "valid accuracy:  1.0\n",
            "epoch: 20 \n",
            "train loss:  2.659092828135697e-06\n",
            "train accuracy:  1.0\n",
            "valid accuracy:  1.0\n",
            "epoch: 25 \n",
            "train loss:  2.654596755746752e-06\n",
            "train accuracy:  1.0\n",
            "valid accuracy:  1.0\n",
            "epoch: 30 \n",
            "train loss:  2.650148094436454e-06\n",
            "train accuracy:  1.0\n",
            "valid accuracy:  1.0\n",
            "epoch: 35 \n",
            "train loss:  2.64544430519304e-06\n",
            "train accuracy:  1.0\n",
            "valid accuracy:  1.0\n",
            "epoch: 40 \n",
            "train loss:  2.6408451958559453e-06\n",
            "train accuracy:  1.0\n",
            "valid accuracy:  1.0\n",
            "epoch: 45 \n",
            "train loss:  2.6363789314223876e-06\n",
            "train accuracy:  1.0\n",
            "valid accuracy:  1.0\n",
            "epoch: 50 \n",
            "train loss:  2.6319438831940775e-06\n",
            "train accuracy:  1.0\n",
            "valid accuracy:  1.0\n",
            "epoch: 55 \n",
            "train loss:  2.6275677467516114e-06\n",
            "train accuracy:  1.0\n",
            "valid accuracy:  1.0\n",
            "epoch: 60 \n",
            "train loss:  2.623102186442984e-06\n",
            "train accuracy:  1.0\n",
            "valid accuracy:  1.0\n",
            "epoch: 65 \n",
            "train loss:  2.618772052829304e-06\n",
            "train accuracy:  1.0\n",
            "valid accuracy:  1.0\n",
            "epoch: 70 \n",
            "train loss:  2.614636022988106e-06\n",
            "train accuracy:  1.0\n",
            "valid accuracy:  1.0\n",
            "epoch: 75 \n",
            "train loss:  2.6102903986259573e-06\n",
            "train accuracy:  1.0\n",
            "valid accuracy:  1.0\n",
            "epoch: 80 \n",
            "train loss:  2.606142163952632e-06\n",
            "train accuracy:  1.0\n",
            "valid accuracy:  1.0\n",
            "epoch: 85 \n",
            "train loss:  2.6018883105397465e-06\n",
            "train accuracy:  1.0\n",
            "valid accuracy:  1.0\n",
            "epoch: 90 \n",
            "train loss:  2.5978729207699578e-06\n",
            "train accuracy:  1.0\n",
            "valid accuracy:  1.0\n",
            "epoch: 95 \n",
            "train loss:  2.5934829365371936e-06\n",
            "train accuracy:  1.0\n",
            "valid accuracy:  1.0\n"
          ]
        }
      ]
    },
    {
      "cell_type": "code",
      "source": [
        "plt.figure(2,dpi=80)\n",
        "plt.subplot(121)\n",
        "plt.plot(loss_train,label='train loss')\n",
        "plt.legend(loc='upper right')\n",
        "plt.subplot(122)\n",
        "plt.plot(accs_train,label='train accuracy')\n",
        "plt.plot(accs_valid,label='valid accuracy')\n",
        "plt.legend(loc='lower right')\n",
        "plt.show()"
      ],
      "metadata": {
        "id": "cqTDpzA2NL0J",
        "colab": {
          "base_uri": "https://localhost:8080/",
          "height": 303
        },
        "outputId": "b83a76ae-cb51-4277-982d-a5729591f0d7"
      },
      "execution_count": 90,
      "outputs": [
        {
          "output_type": "display_data",
          "data": {
            "text/plain": [
              "<Figure size 480x320 with 2 Axes>"
            ],
            "image/png": "[encoded data removed]"
          },
          "metadata": {
            "needs_background": "light"
          }
        }
      ]
    },
    {
      "cell_type": "code",
      "source": [
        "i = 0\n",
        "y_list = np.array([])\n",
        "y_hat_list = np.array([])\n",
        "for X,y in valid_iter:\n",
        "  X=X.to(device)\n",
        "  y_hat = net(X)    \n",
        "  y_hat = y_hat.argmax(dim=1)\n",
        "\n",
        "  y_list = np.append(y_list,y)\n",
        "  y_hat_list = np.append(y_hat_list,y_hat.cpu().numpy())\n",
        "\n",
        "  if i == 0:\n",
        "    for n in range(4):\n",
        "      plt.figure(dpi=64)\n",
        "      plt.imshow(X[n].cpu().squeeze(),cmap='gray')\n",
        "      plt.pause(.0001)\n",
        "\n",
        "      print('label: %s \\n prediction: %s'%(tgtnames[y[n]],tgtnames[y_hat[n]]))\n",
        "  i=i+1\n",
        "\n"
      ],
      "metadata": {
        "id": "uKh7gZIqNLyf",
        "colab": {
          "base_uri": "https://localhost:8080/",
          "height": 1000
        },
        "outputId": "1db476eb-4c4f-4089-9267-535c0e0f6132"
      },
      "execution_count": 94,
      "outputs": [
        {
          "output_type": "display_data",
          "data": {
            "text/plain": [
              "<Figure size 384x256 with 1 Axes>"
            ],
            "image/png": "[encoded data removed]"
          },
          "metadata": {
            "needs_background": "light"
          }
        },
        {
          "output_type": "stream",
          "name": "stdout",
          "text": [
            "label: 祭 \n",
            " prediction: 祭\n"
          ]
        },
        {
          "output_type": "display_data",
          "data": {
            "text/plain": [
              "<Figure size 384x256 with 1 Axes>"
            ],
            "image/png": "[encoded data removed]"
          },
          "metadata": {
            "needs_background": "light"
          }
        },
        {
          "output_type": "stream",
          "name": "stdout",
          "text": [
            "label: 祭 \n",
            " prediction: 祭\n"
          ]
        },
        {
          "output_type": "display_data",
          "data": {
            "text/plain": [
              "<Figure size 384x256 with 1 Axes>"
            ],
            "image/png": "[encoded data removed]"
          },
          "metadata": {
            "needs_background": "light"
          }
        },
        {
          "output_type": "stream",
          "name": "stdout",
          "text": [
            "label: 祭 \n",
            " prediction: 祭\n"
          ]
        },
        {
          "output_type": "display_data",
          "data": {
            "text/plain": [
              "<Figure size 384x256 with 1 Axes>"
            ],
            "image/png": "[encoded data removed]"
          },
          "metadata": {
            "needs_background": "light"
          }
        },
        {
          "output_type": "stream",
          "name": "stdout",
          "text": [
            "label: 祭 \n",
            " prediction: 祭\n"
          ]
        }
      ]
    },
    {
      "cell_type": "code",
      "source": [
        "from sklearn.metrics import (\n",
        "    classification_report, confusion_matrix,\n",
        "    ConfusionMatrixDisplay\n",
        ")"
      ],
      "metadata": {
        "id": "uaHcMnvZNLwX"
      },
      "execution_count": 37,
      "outputs": []
    },
    {
      "cell_type": "code",
      "source": [
        "len(tgtnames)\n",
        "tgtnames[0]\n",
        "tgtnames[1]"
      ],
      "metadata": {
        "colab": {
          "base_uri": "https://localhost:8080/",
          "height": 35
        },
        "id": "0okMNqyw59QI",
        "outputId": "e4b36b18-7b6d-41fc-f9c8-68a6018c4594"
      },
      "execution_count": 49,
      "outputs": [
        {
          "output_type": "execute_result",
          "data": {
            "text/plain": [
              "'文'"
            ],
            "application/vnd.google.colaboratory.intrinsic+json": {
              "type": "string"
            }
          },
          "metadata": {},
          "execution_count": 49
        }
      ]
    },
    {
      "cell_type": "code",
      "source": [
        "print(classification_report(\n",
        "    y_list,\n",
        "    y_hat_list))"
      ],
      "metadata": {
        "id": "cRcoY7IvNLuR",
        "colab": {
          "base_uri": "https://localhost:8080/"
        },
        "outputId": "4bb2ba5f-a0dc-449e-96c0-493dca31775e"
      },
      "execution_count": 92,
      "outputs": [
        {
          "output_type": "stream",
          "name": "stdout",
          "text": [
            "              precision    recall  f1-score   support\n",
            "\n",
            "         0.0       1.00      1.00      1.00      2539\n",
            "\n",
            "    accuracy                           1.00      2539\n",
            "   macro avg       1.00      1.00      1.00      2539\n",
            "weighted avg       1.00      1.00      1.00      2539\n",
            "\n"
          ]
        }
      ]
    },
    {
      "cell_type": "code",
      "source": [
        "cm = confusion_matrix(\n",
        "    y_list,\n",
        "    y_hat_list,\n",
        "#    normalize='true',\n",
        ")\n",
        "disp = ConfusionMatrixDisplay(\n",
        "    confusion_matrix=cm,\n",
        "    display_labels=tgtnames,\n",
        ")\n",
        "disp.plot(ax=plt.subplots(1, 1, facecolor='white')[1],cmap='gray')"
      ],
      "metadata": {
        "id": "8lRjREj6NLsN",
        "colab": {
          "base_uri": "https://localhost:8080/",
          "height": 370
        },
        "outputId": "ecfc8f16-02aa-4c96-aa8f-43f0ddcd0b3b"
      },
      "execution_count": 93,
      "outputs": [
        {
          "output_type": "execute_result",
          "data": {
            "text/plain": [
              "<sklearn.metrics._plot.confusion_matrix.ConfusionMatrixDisplay at 0x7f4d3f2555d0>"
            ]
          },
          "metadata": {},
          "execution_count": 93
        },
        {
          "output_type": "stream",
          "name": "stderr",
          "text": [
            "/usr/local/lib/python3.7/dist-packages/matplotlib/backends/backend_agg.py:214: RuntimeWarning: Glyph 31085 missing from current font.\n",
            "  font.set_text(s, 0.0, flags=flags)\n",
            "/usr/local/lib/python3.7/dist-packages/matplotlib/backends/backend_agg.py:183: RuntimeWarning: Glyph 31085 missing from current font.\n",
            "  font.set_text(s, 0, flags=flags)\n"
          ]
        },
        {
          "output_type": "display_data",
          "data": {
            "text/plain": [
              "<Figure size 432x288 with 2 Axes>"
            ],
            "image/png": "[encoded data removed]"
          },
          "metadata": {}
        }
      ]
    }
  ],
  "metadata": {
    "accelerator": "GPU",
    "colab": {
      "provenance": []
    },
    "gpuClass": "standard",
    "kernelspec": {
      "display_name": "Python 3",
      "name": "python3"
    },
    "language_info": {
      "name": "python"
    }
  },
  "nbformat": 4,
  "nbformat_minor": 0
}